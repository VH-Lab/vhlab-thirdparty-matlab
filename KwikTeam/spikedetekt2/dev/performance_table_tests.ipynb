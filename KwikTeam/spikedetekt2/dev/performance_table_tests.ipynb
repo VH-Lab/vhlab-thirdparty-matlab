{
 "metadata": {
  "name": ""
 },
 "nbformat": 3,
 "nbformat_minor": 0,
 "worksheets": [
  {
   "cells": [
    {
     "cell_type": "markdown",
     "metadata": {},
     "source": [
      "# Performance tests with HDF5"
     ]
    },
    {
     "cell_type": "code",
     "collapsed": false,
     "input": [
      "import os\n",
      "import numpy as np\n",
      "import tables as tb"
     ],
     "language": "python",
     "metadata": {},
     "outputs": [],
     "prompt_number": 3
    },
    {
     "cell_type": "markdown",
     "metadata": {},
     "source": [
      "## Table"
     ]
    },
    {
     "cell_type": "code",
     "collapsed": false,
     "input": [
      "filename = 'data/test1.h5'\n",
      "N = 100000\n",
      "k = 100\n",
      "dtype = [('vec1', 'f4', k),\n",
      "         ('vec2', 'f4', k),\n",
      "         ('vec3', 'f4', k),\n",
      "         ]\n",
      "data = np.empty((N,), dtype=dtype)\n",
      "data['vec1'] = np.random.randn(N, k)\n",
      "data['vec2'] = np.random.randn(N, k)\n",
      "data['vec3'] = np.random.randn(N, k)"
     ],
     "language": "python",
     "metadata": {},
     "outputs": [],
     "prompt_number": 8
    },
    {
     "cell_type": "code",
     "collapsed": false,
     "input": [
      "def create():\n",
      "    with tb.openFile(filename, 'w') as f:\n",
      "        f.createTable('/', 'mytable', data)"
     ],
     "language": "python",
     "metadata": {},
     "outputs": [],
     "prompt_number": 13
    },
    {
     "cell_type": "code",
     "collapsed": false,
     "input": [
      "create()"
     ],
     "language": "python",
     "metadata": {},
     "outputs": [],
     "prompt_number": 14
    },
    {
     "cell_type": "markdown",
     "metadata": {},
     "source": [
      "### Read tests"
     ]
    },
    {
     "cell_type": "markdown",
     "metadata": {},
     "source": [
      "Retrieve one column."
     ]
    },
    {
     "cell_type": "code",
     "collapsed": false,
     "input": [
      "%%timeit\n",
      "with tb.openFile('data/test1.h5', 'r') as f:\n",
      "    f.root.mytable.col('vec1')"
     ],
     "language": "python",
     "metadata": {},
     "outputs": [
      {
       "output_type": "stream",
       "stream": "stdout",
       "text": [
        "10 loops, best of 3: 64.9 ms per loop\n"
       ]
      }
     ],
     "prompt_number": 5
    },
    {
     "cell_type": "markdown",
     "metadata": {},
     "source": [
      "Retrieve all columns."
     ]
    },
    {
     "cell_type": "code",
     "collapsed": false,
     "input": [
      "%%timeit\n",
      "with tb.openFile('data/test1.h5', 'r') as f:\n",
      "    allrows = f.root.mytable[:]"
     ],
     "language": "python",
     "metadata": {},
     "outputs": [
      {
       "output_type": "stream",
       "stream": "stdout",
       "text": [
        "10 loops, best of 3: 77.3 ms per loop\n"
       ]
      }
     ],
     "prompt_number": 6
    },
    {
     "cell_type": "markdown",
     "metadata": {},
     "source": [
      "### Write tests"
     ]
    },
    {
     "cell_type": "markdown",
     "metadata": {},
     "source": [
      "Write one column."
     ]
    },
    {
     "cell_type": "code",
     "collapsed": false,
     "input": [
      "create()"
     ],
     "language": "python",
     "metadata": {},
     "outputs": [],
     "prompt_number": 15
    },
    {
     "cell_type": "code",
     "collapsed": false,
     "input": [
      "%%timeit\n",
      "with tb.openFile('data/test1.h5', 'a') as f:\n",
      "    r = f.root.mytable.row\n",
      "    r['vec1'] = np.random.randn(k)\n",
      "    r.append()"
     ],
     "language": "python",
     "metadata": {},
     "outputs": [
      {
       "output_type": "stream",
       "stream": "stdout",
       "text": [
        "100 loops, best of 3: 3.37 ms per loop\n"
       ]
      }
     ],
     "prompt_number": 16
    },
    {
     "cell_type": "markdown",
     "metadata": {},
     "source": [
      "Write all columns."
     ]
    },
    {
     "cell_type": "code",
     "collapsed": false,
     "input": [
      "create()"
     ],
     "language": "python",
     "metadata": {},
     "outputs": [],
     "prompt_number": 17
    },
    {
     "cell_type": "code",
     "collapsed": false,
     "input": [
      "%%timeit\n",
      "with tb.openFile('data/test1.h5', 'a') as f:\n",
      "    r = f.root.mytable.row\n",
      "    r['vec1'] = np.random.randn(k)\n",
      "    r['vec2'] = np.random.randn(k)\n",
      "    r['vec3'] = np.random.randn(k)\n",
      "    r.append()"
     ],
     "language": "python",
     "metadata": {},
     "outputs": [
      {
       "output_type": "stream",
       "stream": "stdout",
       "text": [
        "100 loops, best of 3: 3.27 ms per loop\n"
       ]
      }
     ],
     "prompt_number": 18
    }
   ],
   "metadata": {}
  }
 ]
}