{
 "metadata": {
  "name": ""
 },
 "nbformat": 3,
 "nbformat_minor": 0,
 "worksheets": [
  {
   "cells": [
    {
     "cell_type": "code",
     "collapsed": false,
     "input": [
      "import numpy as np\n",
      "import tables as tb"
     ],
     "language": "python",
     "metadata": {},
     "outputs": [],
     "prompt_number": 2
    },
    {
     "cell_type": "code",
     "collapsed": false,
     "input": [
      "clusters_sel = range(3, 15, 2)\n",
      "clusters_cond = ' | '.join(['(cluster_auto == {0:d})'.format(c) for c in clusters_sel])"
     ],
     "language": "python",
     "metadata": {},
     "outputs": [],
     "prompt_number": 24
    },
    {
     "cell_type": "code",
     "collapsed": false,
     "input": [
      "%%timeit -n1 -r1 f = tb.openFile('data/test.kwik', 'r')\n",
      "[(row['features'], row['time'], row['cluster_manual']) for row in f.root.shanks.shank1.spikes.where(clusters_cond)]\n",
      "f.close()"
     ],
     "language": "python",
     "metadata": {},
     "outputs": [
      {
       "output_type": "stream",
       "stream": "stdout",
       "text": [
        "1 loops, best of 1: 10.7 ms per loop\n"
       ]
      }
     ],
     "prompt_number": 32
    },
    {
     "cell_type": "code",
     "collapsed": false,
     "input": [
      "%%timeit -n1 -r1 f = tb.openFile('data/test.kwik', 'r')\n",
      "indices = np.in1d(f.root.shanks.shank1.spikes.col('cluster_auto'), clusters_sel)\n",
      "myspikes = f.root.shanks.shank1.spikes[indices]\n",
      "f.close()"
     ],
     "language": "python",
     "metadata": {},
     "outputs": [
      {
       "output_type": "stream",
       "stream": "stdout",
       "text": [
        "1 loops, best of 1: 9.11 ms per loop\n"
       ]
      }
     ],
     "prompt_number": 28
    }
   ],
   "metadata": {}
  }
 ]
}