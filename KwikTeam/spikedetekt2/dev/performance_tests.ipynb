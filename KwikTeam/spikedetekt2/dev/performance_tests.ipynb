{
 "metadata": {
  "name": ""
 },
 "nbformat": 3,
 "nbformat_minor": 0,
 "worksheets": [
  {
   "cells": [
    {
     "cell_type": "markdown",
     "metadata": {},
     "source": [
      "# Performance tests with HDF5"
     ]
    },
    {
     "cell_type": "code",
     "collapsed": false,
     "input": [
      "import os\n",
      "import numpy as np\n",
      "import tables as tb"
     ],
     "language": "python",
     "metadata": {},
     "outputs": [],
     "prompt_number": 1
    },
    {
     "cell_type": "markdown",
     "metadata": {},
     "source": [
      "## Selection"
     ]
    },
    {
     "cell_type": "markdown",
     "metadata": {},
     "source": [
      "### Test file 1: single table"
     ]
    },
    {
     "cell_type": "markdown",
     "metadata": {},
     "source": [
      "Create a HDF5 file with one table."
     ]
    },
    {
     "cell_type": "code",
     "collapsed": false,
     "input": [
      "filename = 'data/test1.h5'\n",
      "N = 100000\n",
      "k = 100\n",
      "dtype = [('key', 'i4'),\n",
      "         ('vec1', 'f4', k),\n",
      "         ('vec2', 'f4', k),\n",
      "         ('vec3', 'f4', k),\n",
      "         ]\n",
      "data = np.empty((N,), dtype=dtype)\n",
      "data['key'] = np.random.randint(low=0, high=N//1000, size=N)\n",
      "data['vec1'] = np.random.randn(N, k)\n",
      "data['vec2'] = np.random.randn(N, k)\n",
      "data['vec3'] = np.random.randn(N, k)\n",
      "with tb.openFile(filename, 'w') as f:\n",
      "    f.createTable('/', 'mytable', data)"
     ],
     "language": "python",
     "metadata": {},
     "outputs": [],
     "prompt_number": 2
    },
    {
     "cell_type": "code",
     "collapsed": false,
     "input": [
      "keys_sel = range(0, N//1000, 2)\n",
      "keys_cond = ' | '.join(['(key == {0:d})'.format(c) for c in keys_sel])"
     ],
     "language": "python",
     "metadata": {},
     "outputs": [],
     "prompt_number": 3
    },
    {
     "cell_type": "markdown",
     "metadata": {},
     "source": [
      "Slow method (`where` and iteration)."
     ]
    },
    {
     "cell_type": "code",
     "collapsed": false,
     "input": [
      "%%timeit -n1 -r1 f = tb.openFile('data/test1.h5', 'r')\n",
      "myrows = [(row[:]) \n",
      "          for row in f.root.mytable.where(keys_cond)]\n",
      "f.close()"
     ],
     "language": "python",
     "metadata": {},
     "outputs": [
      {
       "output_type": "stream",
       "stream": "stdout",
       "text": [
        "1 loops, best of 1: 438 ms per loop\n"
       ]
      }
     ],
     "prompt_number": 4
    },
    {
     "cell_type": "markdown",
     "metadata": {},
     "source": [
      "Fast method (load all clusters, `np.in1d`, select rows)."
     ]
    },
    {
     "cell_type": "code",
     "collapsed": false,
     "input": [
      "%%timeit -n1 -r1 f = tb.openFile('data/test1.h5', 'r')\n",
      "indices = np.in1d(f.root.mytable.col('key'), keys_sel)\n",
      "myrows = f.root.mytable[indices]\n",
      "f.close()"
     ],
     "language": "python",
     "metadata": {},
     "outputs": [
      {
       "output_type": "stream",
       "stream": "stdout",
       "text": [
        "1 loops, best of 1: 160 ms per loop\n"
       ]
      }
     ],
     "prompt_number": 20
    },
    {
     "cell_type": "markdown",
     "metadata": {},
     "source": [
      "### Test file 2: One table + one array for the keys"
     ]
    },
    {
     "cell_type": "markdown",
     "metadata": {},
     "source": [
      "Create a HDF5 file with one table and one *separate* array with the keys."
     ]
    },
    {
     "cell_type": "code",
     "collapsed": false,
     "input": [
      "filename = 'data/test2.h5'\n",
      "N = 100000\n",
      "k = 100\n",
      "dtype = [('vec1', 'f4', k),\n",
      "         ('vec2', 'f4', k),\n",
      "         ('vec3', 'f4', k),\n",
      "         ]\n",
      "data = np.empty((N,), dtype=dtype)\n",
      "data['vec1'] = np.random.randn(N, k)\n",
      "data['vec2'] = np.random.randn(N, k)\n",
      "data['vec3'] = np.random.randn(N, k)\n",
      "with tb.openFile(filename, 'w') as f:\n",
      "    f.createTable('/', 'mytable', data)\n",
      "    f.createArray('/', 'keys', np.random.randint(low=0, high=N//1000, size=N))"
     ],
     "language": "python",
     "metadata": {},
     "outputs": [],
     "prompt_number": 6
    },
    {
     "cell_type": "code",
     "collapsed": false,
     "input": [
      "keys_sel = range(0, N//1000, 2)\n",
      "keys_cond = ' | '.join(['(key == {0:d})'.format(c) for c in keys_sel])"
     ],
     "language": "python",
     "metadata": {},
     "outputs": [],
     "prompt_number": 7
    },
    {
     "cell_type": "code",
     "collapsed": false,
     "input": [
      "%%timeit -n1 -r1 f = tb.openFile(filename, 'r')\n",
      "indices = np.in1d(f.root.keys[:], keys_sel)\n",
      "myrows = f.root.mytable[indices]\n",
      "f.close()"
     ],
     "language": "python",
     "metadata": {},
     "outputs": [
      {
       "output_type": "stream",
       "stream": "stdout",
       "text": [
        "1 loops, best of 1: 136 ms per loop\n"
       ]
      }
     ],
     "prompt_number": 8
    },
    {
     "cell_type": "markdown",
     "metadata": {},
     "source": [
      "## Writing"
     ]
    },
    {
     "cell_type": "markdown",
     "metadata": {},
     "source": [
      "With test file 1."
     ]
    },
    {
     "cell_type": "code",
     "collapsed": false,
     "input": [
      "%%timeit -n1 -r1 f = tb.openFile('data/test1.h5', 'a')\n",
      "f.root.mytable.cols.key[:] = np.random.randint(low=0, high=N//1000, size=N)\n",
      "f.flush()\n",
      "f.close()"
     ],
     "language": "python",
     "metadata": {},
     "outputs": [
      {
       "output_type": "stream",
       "stream": "stdout",
       "text": [
        "1 loops, best of 1: 149 ms per loop\n"
       ]
      }
     ],
     "prompt_number": 12
    },
    {
     "cell_type": "markdown",
     "metadata": {},
     "source": [
      "With test file 2."
     ]
    },
    {
     "cell_type": "code",
     "collapsed": false,
     "input": [
      "%%timeit -n1 -r1 f = tb.openFile('data/test2.h5', 'a')\n",
      "f.root.keys[:] = np.random.randint(low=0, high=N//1000, size=N)\n",
      "f.flush()\n",
      "f.close()"
     ],
     "language": "python",
     "metadata": {},
     "outputs": [
      {
       "output_type": "stream",
       "stream": "stdout",
       "text": [
        "1 loops, best of 1: 4.11 ms per loop\n"
       ]
      }
     ],
     "prompt_number": 11
    },
    {
     "cell_type": "markdown",
     "metadata": {},
     "source": [
      "## Conclusion"
     ]
    },
    {
     "cell_type": "markdown",
     "metadata": {},
     "source": [
      "The most efficient method to read/write is to:\n",
      "  \n",
      "  * store clusters in an independent array\n",
      "  * to select spikes belonging to some clusters:\n",
      "      * first, load all clusters\n",
      "      * then, select the rows corresponding to the requested clusters, with np.in1d\n",
      "      * finally, load the spikes with fancy indexing\n",
      "      "
     ]
    }
   ],
   "metadata": {}
  }
 ]
}