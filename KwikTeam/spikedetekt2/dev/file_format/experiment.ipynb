{
 "metadata": {
  "name": ""
 },
 "nbformat": 3,
 "nbformat_minor": 0,
 "worksheets": [
  {
   "cells": [
    {
     "cell_type": "markdown",
     "metadata": {},
     "source": [
      "# Tests with the data access API\n",
      "\n",
      "In **Writing files**, we create an empty dataset and add random data. Then, in **Reading files**, we show how to use the object-oriented interface to access the experiment's data."
     ]
    },
    {
     "cell_type": "markdown",
     "metadata": {},
     "source": [
      "## Writing files\n",
      "\n",
      "This part of the API is internal only, i.e. used by our programs (KlustaViewa, SpikeDetekt...) and not by end-users."
     ]
    },
    {
     "cell_type": "code",
     "collapsed": false,
     "input": [
      "import numpy as np\n",
      "from spikedetekt2 import *"
     ],
     "language": "python",
     "metadata": {},
     "outputs": [],
     "prompt_number": 1
    },
    {
     "cell_type": "markdown",
     "metadata": {},
     "source": [
      "Let's create PRM and PRB dictionaries (in-memory versions of the PRB and PRM files)."
     ]
    },
    {
     "cell_type": "code",
     "collapsed": false,
     "input": [
      "nchannels = 32\n",
      "duration = 10.\n",
      "bit_depth = 16\n",
      "sample_rate = 20000.\n",
      "nsamples = int(duration * sample_rate)\n",
      "prm = {\n",
      "       'nchannels': nchannels,\n",
      "       'nfeatures': nchannels*3,\n",
      "       'waveforms_nsamples': 20\n",
      "       }\n",
      "prb = {'channel_groups': [\n",
      "            {\n",
      "                'channels': range(nchannels),\n",
      "                'graph': [[i, i+1] for i in range(nchannels-1)],\n",
      "                'geometry': {i: ((i%2*2-1), i) for i in range(nchannels)},\n",
      "            }\n",
      "     ]}"
     ],
     "language": "python",
     "metadata": {},
     "outputs": [],
     "prompt_number": 2
    },
    {
     "cell_type": "markdown",
     "metadata": {},
     "source": [
      "The following function creates 'myexperiment.kwik' and the other HDF5 files, with the appropriate internal architecture, but no actual data (except metadata given in PRM and PRM)."
     ]
    },
    {
     "cell_type": "code",
     "collapsed": false,
     "input": [
      "create_files('myexperiment', prm=prm, prb=prb)"
     ],
     "language": "python",
     "metadata": {},
     "outputs": [
      {
       "metadata": {},
       "output_type": "pyout",
       "prompt_number": 3,
       "text": [
        "{'high.kwd': 'D:\\\\Git\\\\spikedetekt2\\\\dev\\\\file_format\\\\myexperiment.high.kwd',\n",
        " 'kwik': 'D:\\\\Git\\\\spikedetekt2\\\\dev\\\\file_format\\\\myexperiment.kwik',\n",
        " 'kwx': 'D:\\\\Git\\\\spikedetekt2\\\\dev\\\\file_format\\\\myexperiment.kwx',\n",
        " 'low.kwd': 'D:\\\\Git\\\\spikedetekt2\\\\dev\\\\file_format\\\\myexperiment.low.kwd',\n",
        " 'raw.kwd': 'D:\\\\Git\\\\spikedetekt2\\\\dev\\\\file_format\\\\myexperiment.raw.kwd'}"
       ]
      }
     ],
     "prompt_number": 3
    },
    {
     "cell_type": "markdown",
     "metadata": {},
     "source": [
      "Now, let's add some data! First, let's open the files in 'append' mode."
     ]
    },
    {
     "cell_type": "code",
     "collapsed": false,
     "input": [
      "files = open_files('myexperiment', mode='a')"
     ],
     "language": "python",
     "metadata": {},
     "outputs": [],
     "prompt_number": 4
    },
    {
     "cell_type": "markdown",
     "metadata": {},
     "source": [
      "We create random raw data."
     ]
    },
    {
     "cell_type": "code",
     "collapsed": false,
     "input": [
      "data = np.random.randint(size=(nsamples, nchannels), low=0, high=65535)"
     ],
     "language": "python",
     "metadata": {},
     "outputs": [],
     "prompt_number": 5
    },
    {
     "cell_type": "code",
     "collapsed": false,
     "input": [
      "add_recording(files, \n",
      "              sample_rate=sample_rate,\n",
      "              start_time=0., \n",
      "              start_sample=0,\n",
      "              bit_depth=bit_depth,\n",
      "              data=data)"
     ],
     "language": "python",
     "metadata": {},
     "outputs": [],
     "prompt_number": 6
    },
    {
     "cell_type": "markdown",
     "metadata": {},
     "source": [
      "Let's add some items."
     ]
    },
    {
     "cell_type": "code",
     "collapsed": false,
     "input": [
      "add_event_type(files, 'myevents')\n",
      "add_cluster_group(files, channel_group_id='0', id='noise', name='Noise')\n",
      "add_cluster(files, channel_group_id='0',)"
     ],
     "language": "python",
     "metadata": {},
     "outputs": [],
     "prompt_number": 7
    },
    {
     "cell_type": "code",
     "collapsed": false,
     "input": [
      "# Close the files\n",
      "close_files(files)"
     ],
     "language": "python",
     "metadata": {},
     "outputs": [],
     "prompt_number": 8
    },
    {
     "cell_type": "markdown",
     "metadata": {},
     "source": [
      "## Reading an experiment\n",
      "\n",
      "This is the public object-oriented API that offers easy access to all datasets forming an experiment."
     ]
    },
    {
     "cell_type": "markdown",
     "metadata": {},
     "source": [
      "The following command loads all HDF5 files in memory. This is fast and memory-efficient as only the structure is loaded, not the data arrays themselves."
     ]
    },
    {
     "cell_type": "code",
     "collapsed": false,
     "input": [
      "exp = Experiment('myexperiment')\n",
      "exp"
     ],
     "language": "python",
     "metadata": {},
     "outputs": [
      {
       "metadata": {},
       "output_type": "pyout",
       "prompt_number": 9,
       "text": [
        "<Experiment 'myexperiment'>\n",
        "    application_data\n",
        "    channel_groups\n",
        "        0\n",
        "            adjacency_graph\n",
        "            application_data\n",
        "            channels\n",
        "                0\n",
        "                    application_data\n",
        "                    display_threshold\n",
        "                    ignored\n",
        "                    kwd_index\n",
        "                    name\n",
        "                    position\n",
        "                    user_data\n",
        "                    voltage_gain\n",
        "            cluster_groups\n",
        "                noise\n",
        "                    application_data\n",
        "                    name\n",
        "                    user_data\n",
        "            clusters\n",
        "                0\n",
        "                    application_data\n",
        "                    cluster_group\n",
        "                    mean_waveform_filtered\n",
        "                    mean_waveform_raw\n",
        "                    quality_measures\n",
        "                    user_data\n",
        "            name\n",
        "            spikes\n",
        "                cluster [uint32 (0,)]\n",
        "                cluster_original [uint32 (0,)]\n",
        "                features_masks [float32 (0, 96, 2)]\n",
        "                recording [uint16 (0,)]\n",
        "                time_fractional [uint8 (0,)]\n",
        "                time_samples [uint64 (0,)]\n",
        "                waveforms_filtered [int16 (0, 20, 32)]\n",
        "                waveforms_raw [int16 (0, 20, 32)]\n",
        "            user_data\n",
        "    event_types\n",
        "        myevents\n",
        "            application_data\n",
        "            events\n",
        "                recording [uint16 (0,)]\n",
        "                time_samples [uint64 (0,)]\n",
        "                user_data\n",
        "            user_data\n",
        "    name\n",
        "    recordings\n",
        "        0\n",
        "            band_high\n",
        "            band_low\n",
        "            bit_depth\n",
        "            high\n",
        "            low\n",
        "            name\n",
        "            raw\n",
        "            sample_rate\n",
        "            start_sample\n",
        "            start_time\n",
        "            user_data\n",
        "    user_data"
       ]
      }
     ],
     "prompt_number": 9
    },
    {
     "cell_type": "markdown",
     "metadata": {},
     "source": [
      "SpikeDetekt paramaters are there."
     ]
    },
    {
     "cell_type": "code",
     "collapsed": false,
     "input": [
      "exp.application_data.spikedetekt.nchannels"
     ],
     "language": "python",
     "metadata": {},
     "outputs": [
      {
       "metadata": {},
       "output_type": "pyout",
       "prompt_number": 10,
       "text": [
        "32"
       ]
      }
     ],
     "prompt_number": 10
    },
    {
     "cell_type": "code",
     "collapsed": false,
     "input": [
      "exp.application_data.spikedetekt.waveforms_nsamples"
     ],
     "language": "python",
     "metadata": {},
     "outputs": [
      {
       "metadata": {},
       "output_type": "pyout",
       "prompt_number": 11,
       "text": [
        "20"
       ]
      }
     ],
     "prompt_number": 11
    },
    {
     "cell_type": "code",
     "collapsed": false,
     "input": [
      "exp.channel_groups.keys()"
     ],
     "language": "python",
     "metadata": {},
     "outputs": [
      {
       "metadata": {},
       "output_type": "pyout",
       "prompt_number": 12,
       "text": [
        "[0]"
       ]
      }
     ],
     "prompt_number": 12
    },
    {
     "cell_type": "code",
     "collapsed": false,
     "input": [
      "exp.channel_groups[0].name"
     ],
     "language": "python",
     "metadata": {},
     "outputs": [
      {
       "metadata": {},
       "output_type": "pyout",
       "prompt_number": 13,
       "text": [
        "'channel_group_0'"
       ]
      }
     ],
     "prompt_number": 13
    },
    {
     "cell_type": "code",
     "collapsed": false,
     "input": [
      "np.array(exp.channel_groups[0].adjacency_graph).T"
     ],
     "language": "python",
     "metadata": {},
     "outputs": [
      {
       "metadata": {},
       "output_type": "pyout",
       "prompt_number": 14,
       "text": [
        "array([[ 0,  1,  2,  3,  4,  5,  6,  7,  8,  9, 10, 11, 12, 13, 14, 15, 16,\n",
        "        17, 18, 19, 20, 21, 22, 23, 24, 25, 26, 27, 28, 29, 30],\n",
        "       [ 1,  2,  3,  4,  5,  6,  7,  8,  9, 10, 11, 12, 13, 14, 15, 16, 17,\n",
        "        18, 19, 20, 21, 22, 23, 24, 25, 26, 27, 28, 29, 30, 31]])"
       ]
      }
     ],
     "prompt_number": 14
    },
    {
     "cell_type": "markdown",
     "metadata": {},
     "source": [
      "Features and masks can be accessed normally, but actually belong to the `.kwx` file and not the `.kwik`."
     ]
    },
    {
     "cell_type": "code",
     "collapsed": false,
     "input": [
      "exp.channel_groups[0].spikes.features_masks"
     ],
     "language": "python",
     "metadata": {},
     "outputs": [
      {
       "metadata": {},
       "output_type": "pyout",
       "prompt_number": 15,
       "text": [
        "/channel_groups/0/features_masks (EArray(0, 96, 2)) ''\n",
        "  atom := Float32Atom(shape=(), dflt=0.0)\n",
        "  maindim := 0\n",
        "  flavor := 'numpy'\n",
        "  byteorder := 'little'\n",
        "  chunkshape := (85, 96, 2)"
       ]
      }
     ],
     "prompt_number": 15
    },
    {
     "cell_type": "code",
     "collapsed": false,
     "input": [
      "exp.channel_groups[0].spikes.features_masks._v_file"
     ],
     "language": "python",
     "metadata": {},
     "outputs": [
      {
       "metadata": {},
       "output_type": "pyout",
       "prompt_number": 16,
       "text": [
        "File(filename=D:\\Git\\spikedetekt2\\dev\\file_format\\myexperiment.kwx, title='', mode='r', root_uep='/', filters=Filters(complevel=0, shuffle=False, fletcher32=False))\n",
        "/ (RootGroup) ''\n",
        "/channel_groups (Group) ''\n",
        "/channel_groups/0 (Group) ''\n",
        "/channel_groups/0/features_masks (EArray(0, 96, 2)) ''\n",
        "  atom := Float32Atom(shape=(), dflt=0.0)\n",
        "  maindim := 0\n",
        "  flavor := 'numpy'\n",
        "  byteorder := 'little'\n",
        "  chunkshape := (85, 96, 2)\n",
        "/channel_groups/0/waveforms_filtered (EArray(0, 20, 32)) ''\n",
        "  atom := Int16Atom(shape=(), dflt=0)\n",
        "  maindim := 0\n",
        "  flavor := 'numpy'\n",
        "  byteorder := 'little'\n",
        "  chunkshape := (51, 20, 32)\n",
        "/channel_groups/0/waveforms_raw (EArray(0, 20, 32)) ''\n",
        "  atom := Int16Atom(shape=(), dflt=0)\n",
        "  maindim := 0\n",
        "  flavor := 'numpy'\n",
        "  byteorder := 'little'\n",
        "  chunkshape := (51, 20, 32)"
       ]
      }
     ],
     "prompt_number": 16
    },
    {
     "cell_type": "code",
     "collapsed": false,
     "input": [
      "exp.channel_groups[0].cluster_groups"
     ],
     "language": "python",
     "metadata": {},
     "outputs": [
      {
       "metadata": {},
       "output_type": "pyout",
       "prompt_number": 17,
       "text": [
        "{'noise': <spikedetekt2.dataio.experiment.ClusterGroup at 0x9a9a1d0>}"
       ]
      }
     ],
     "prompt_number": 17
    },
    {
     "cell_type": "code",
     "collapsed": false,
     "input": [
      "exp.channel_groups[0].cluster_groups['noise'].name"
     ],
     "language": "python",
     "metadata": {},
     "outputs": [
      {
       "metadata": {},
       "output_type": "pyout",
       "prompt_number": 18,
       "text": [
        "'Noise'"
       ]
      }
     ],
     "prompt_number": 18
    },
    {
     "cell_type": "code",
     "collapsed": false,
     "input": [
      "exp.recordings[0].raw.data"
     ],
     "language": "python",
     "metadata": {},
     "outputs": [
      {
       "metadata": {},
       "output_type": "pyout",
       "prompt_number": 19,
       "text": [
        "/recordings/0/data (EArray(0, 32)) ''\n",
        "  atom := Int16Atom(shape=(), dflt=0)\n",
        "  maindim := 0\n",
        "  flavor := 'numpy'\n",
        "  byteorder := 'little'\n",
        "  chunkshape := (2048, 32)"
       ]
      }
     ],
     "prompt_number": 19
    },
    {
     "cell_type": "code",
     "collapsed": false,
     "input": [
      "exp.recordings[0].high.filter"
     ],
     "language": "python",
     "metadata": {},
     "outputs": [
      {
       "metadata": {},
       "output_type": "pyout",
       "prompt_number": 20,
       "text": [
        "/recordings/0/filter (Group) ''\n",
        "  children := []"
       ]
      }
     ],
     "prompt_number": 20
    },
    {
     "cell_type": "code",
     "collapsed": false,
     "input": [
      "exp.recordings[0].bit_depth"
     ],
     "language": "python",
     "metadata": {},
     "outputs": [
      {
       "metadata": {},
       "output_type": "pyout",
       "prompt_number": 21,
       "text": [
        "16"
       ]
      }
     ],
     "prompt_number": 21
    },
    {
     "cell_type": "markdown",
     "metadata": {},
     "source": [
      "Delete the test files."
     ]
    },
    {
     "cell_type": "code",
     "collapsed": false,
     "input": [
      "exp.close()"
     ],
     "language": "python",
     "metadata": {},
     "outputs": [],
     "prompt_number": 22
    },
    {
     "cell_type": "code",
     "collapsed": false,
     "input": [
      "import os\n",
      "[os.remove(f) for f in exp._filenames.values()];"
     ],
     "language": "python",
     "metadata": {},
     "outputs": [],
     "prompt_number": 23
    }
   ],
   "metadata": {}
  }
 ]
}