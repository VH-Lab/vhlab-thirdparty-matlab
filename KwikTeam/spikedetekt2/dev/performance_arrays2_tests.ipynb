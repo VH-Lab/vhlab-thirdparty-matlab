{
 "metadata": {
  "name": ""
 },
 "nbformat": 3,
 "nbformat_minor": 0,
 "worksheets": [
  {
   "cells": [
    {
     "cell_type": "markdown",
     "metadata": {},
     "source": [
      "# Performance tests with HDF5"
     ]
    },
    {
     "cell_type": "code",
     "collapsed": false,
     "input": [
      "import os\n",
      "import numpy as np\n",
      "import tables as tb"
     ],
     "language": "python",
     "metadata": {},
     "outputs": [],
     "prompt_number": 7
    },
    {
     "cell_type": "markdown",
     "metadata": {},
     "source": [
      "## Arrays"
     ]
    },
    {
     "cell_type": "code",
     "collapsed": false,
     "input": [
      "filename = 'data/test3.h5'\n",
      "N = 100000\n",
      "k = 100"
     ],
     "language": "python",
     "metadata": {},
     "outputs": [],
     "prompt_number": 8
    },
    {
     "cell_type": "code",
     "collapsed": false,
     "input": [
      "def create():\n",
      "    with tb.openFile(filename, 'w') as f:\n",
      "        arr1 = f.createEArray('/', 'myarray1', tb.Float64Atom(k), (0,), expectedrows=N)\n",
      "        arr2 = f.createEArray('/', 'myarray2', tb.Float64Atom(k), (0,), expectedrows=N)\n",
      "        arr3 = f.createEArray('/', 'myarray3', tb.Float64Atom(k), (0,), expectedrows=N)\n",
      "        arr1.append(np.random.randn(N, k))\n",
      "        arr2.append(np.random.randn(N, k))\n",
      "        arr3.append(np.random.randn(N, k))"
     ],
     "language": "python",
     "metadata": {},
     "outputs": [],
     "prompt_number": 9
    },
    {
     "cell_type": "code",
     "collapsed": false,
     "input": [
      "create()"
     ],
     "language": "python",
     "metadata": {},
     "outputs": [],
     "prompt_number": 10
    },
    {
     "cell_type": "markdown",
     "metadata": {},
     "source": [
      "### Read tests"
     ]
    },
    {
     "cell_type": "markdown",
     "metadata": {},
     "source": [
      "Retrieve one column."
     ]
    },
    {
     "cell_type": "code",
     "collapsed": false,
     "input": [
      "%%timeit\n",
      "with tb.openFile(filename, 'r') as f:\n",
      "    f.root.myarray1[:]"
     ],
     "language": "python",
     "metadata": {},
     "outputs": [
      {
       "output_type": "stream",
       "stream": "stdout",
       "text": [
        "10 loops, best of 3: 57.9 ms per loop\n"
       ]
      }
     ],
     "prompt_number": 11
    },
    {
     "cell_type": "markdown",
     "metadata": {},
     "source": [
      "Retrieve all columns."
     ]
    },
    {
     "cell_type": "code",
     "collapsed": false,
     "input": [
      "%%timeit\n",
      "with tb.openFile(filename, 'r') as f:\n",
      "    x = f.root.myarray1[:]\n",
      "    y = f.root.myarray2[:]\n",
      "    z = f.root.myarray3[:]"
     ],
     "language": "python",
     "metadata": {},
     "outputs": [
      {
       "output_type": "stream",
       "stream": "stdout",
       "text": [
        "10 loops, best of 3: 168 ms per loop\n"
       ]
      }
     ],
     "prompt_number": 12
    },
    {
     "cell_type": "markdown",
     "metadata": {},
     "source": [
      "### Write tests"
     ]
    },
    {
     "cell_type": "markdown",
     "metadata": {},
     "source": [
      "Write one column."
     ]
    },
    {
     "cell_type": "code",
     "collapsed": false,
     "input": [
      "create()"
     ],
     "language": "python",
     "metadata": {},
     "outputs": [],
     "prompt_number": 13
    },
    {
     "cell_type": "code",
     "collapsed": false,
     "input": [
      "%%timeit\n",
      "with tb.openFile(filename, 'a') as f:\n",
      "    f.root.myarray1.append(np.random.randn(1, k))"
     ],
     "language": "python",
     "metadata": {},
     "outputs": [
      {
       "output_type": "stream",
       "stream": "stdout",
       "text": [
        "1000 loops, best of 3: 2.66 ms per loop\n"
       ]
      }
     ],
     "prompt_number": 14
    },
    {
     "cell_type": "markdown",
     "metadata": {},
     "source": [
      "Write all columns."
     ]
    },
    {
     "cell_type": "code",
     "collapsed": false,
     "input": [
      "create()"
     ],
     "language": "python",
     "metadata": {},
     "outputs": [],
     "prompt_number": 15
    },
    {
     "cell_type": "code",
     "collapsed": false,
     "input": [
      "%%timeit\n",
      "with tb.openFile(filename, 'a') as f:\n",
      "    f.root.myarray1.append(np.random.randn(1, k))\n",
      "    f.root.myarray2.append(np.random.randn(1, k))\n",
      "    f.root.myarray3.append(np.random.randn(1, k))"
     ],
     "language": "python",
     "metadata": {},
     "outputs": [
      {
       "output_type": "stream",
       "stream": "stdout",
       "text": [
        "100 loops, best of 3: 3.27 ms per loop\n"
       ]
      }
     ],
     "prompt_number": 16
    }
   ],
   "metadata": {}
  }
 ]
}